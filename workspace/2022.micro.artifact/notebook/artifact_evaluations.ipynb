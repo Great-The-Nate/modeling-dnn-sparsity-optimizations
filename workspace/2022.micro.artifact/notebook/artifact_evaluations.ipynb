{
 "cells": [
  {
   "cell_type": "markdown",
   "metadata": {},
   "source": [
    "# MICRO 2022 Artifact Evaluation\n",
    "# Sparseloop: An Analytical Approach To Sparse Tensor Accelerator Modeling\n",
    "### Yannan N. Wu, Po-An Tsai, Angshuman Parashar, Vivienne Sze, Joel S. Emer"
   ]
  },
  {
   "cell_type": "markdown",
   "metadata": {},
   "source": [
    "## Context\n",
    "\n",
    "In this artifact, we provide evaluation setups for the important experiments (the motivating example, validations for accelerator designs, and the case study). Please follow the instructions in each cell to run the evaluations.\n",
    "\n",
    "For each experiment, we give a *very conservative estimate* of how long the runs will take. The input specifications and related scripts can be found in `../evaluation_setups`. **The easiest way to validate the outputs is to compare the generated figure/table to the figure/table in the paper**, but we do provide a `ref_outputs` folder for each evaluation for more detailed comparison of results if necessary.\n",
    "\n",
    "\n",
    "\n",
    "***Please note that to allow easier and faster reproduction, for most of the experiments, we directly provide the mappings found by our offline search*** *instead of letting Sparseloop performing online seach for the best mapping.* ***Sparseloop does allow automatic exploration of various mappings*** *as demonstrated in eval1 (more information on tool usage can be found [here](https://accelergy.mit.edu/tutorial.html) and [here](https://accelergy.mit.edu/sparse_tutorial.html)).*\n",
    "\n",
    "\n",
    "### If you have any questions, please feel free to reach out at timeloop-accelergy@mit.edu. Thanks!\n",
    "\n"
   ]
  },
  {
   "cell_type": "markdown",
   "metadata": {},
   "source": [
    "\n",
    "## Eval 1: Data representation format comparison (Fig.1 in paper)\n",
    "\n",
    "This evaluation compares the processing speed and energy efficiency of two architectures that support different representation formats: 1) bitmask with gating; 2) coordinate list with skipping, running matrix multiplication workloads with various density degrees\n",
    "\n",
    "### Step 1: Run sweep  ( <5min)"
   ]
  },
  {
   "cell_type": "code",
   "execution_count": null,
   "metadata": {
    "scrolled": true
   },
   "outputs": [],
   "source": [
    "%%bash\n",
    "cd ../evaluation_setups/fig1_format_comparison_setup/scripts\n",
    "echo \"input specs at: ../evaluation_setups/fig1_format_comparison_setup/\"\n",
    "chmod +x sweep.sh\n",
    "time ./sweep.sh"
   ]
  },
  {
   "cell_type": "markdown",
   "metadata": {},
   "source": [
    "### Step 2: Parse and generate plot\n",
    "1) run first cell to parse and plot\n",
    "\n",
    "2) run next cell to display the generated figures\n",
    "\n",
    "3) compare the figures to Fig.1 in paper"
   ]
  },
  {
   "cell_type": "code",
   "execution_count": null,
   "metadata": {},
   "outputs": [],
   "source": [
    "%%bash\n",
    "cd ../evaluation_setups/fig1_format_comparison_setup/scripts\n",
    "time python3 parse_and_plot.py"
   ]
  },
  {
   "cell_type": "code",
   "execution_count": null,
   "metadata": {},
   "outputs": [],
   "source": [
    "from IPython.display import Video, Image, HTML, display\n",
    "import matplotlib.pyplot as plt\n",
    "\n",
    "cycles_fig = \"../evaluation_setups/fig1_format_comparison_setup/outputs/fig_cycles.png\"\n",
    "energy_fig = \"../evaluation_setups/fig1_format_comparison_setup/outputs/fig_energy_pJ.png\"\n",
    "\n",
    "display(Image(cycles_fig))\n",
    "display(Image(energy_fig))"
   ]
  },
  {
   "cell_type": "markdown",
   "metadata": {},
   "source": [
    "## Eval 2: EyerissV2 PE Validation ( 1. Fig.12 in paper; 2. showcase the main idea presented in Table 5)\n",
    "\n",
    "We simulate mobilenet0.5 layers on a variation of eyeriss v2 PE with one compute unit.\n",
    "\n",
    "We show experimental setups for both running evaluations with statistical density model (uniform density model) and actual data based density model. The modeling time is much longer with actual data based model. **This fact showcases the idea presented in Table 5: analytical modeling with statisical density model allows faster modeling.** (*Experiments for Table 5 requires manaul instrumantaion into the source code, which is not convienent for non-developers to setup, so we use this evlauation to showcase the main idea.*)\n",
    "\n",
    "### Step 1: Run sweep with statistical density modeling (< 3min)"
   ]
  },
  {
   "cell_type": "code",
   "execution_count": 13,
   "metadata": {
    "scrolled": true
   },
   "outputs": [
    {
     "name": "stdout",
     "output_type": "stream",
     "text": [
      "input specs at: ../evaluation_setups/fig12_eyerissv2_pe_setup/\n",
      "Warning: neither block size nor cluster size specified, set according to specified storage width: block size: 1  cluster-size: 1\n"
     ]
    },
    {
     "name": "stderr",
     "output_type": "stream",
     "text": [
      "WARNING: Interpreting 0 to mean full problem dimension instead of residue.\n",
      "WARNING: Interpreting 0 to mean full problem dimension instead of residue.\n",
      "WARNING: Interpreting 0 to mean full problem dimension instead of residue.\n",
      "WARNING: Interpreting 0 to mean full problem dimension instead of residue.\n",
      "WARNING: Interpreting 0 to mean full problem dimension instead of residue.\n",
      "WARNING: Interpreting 0 to mean full problem dimension instead of residue.\n"
     ]
    },
    {
     "name": "stdout",
     "output_type": "stream",
     "text": [
      "Utilization = 1.00 | pJ/Algorithmic-Compute =    1.542 | pJ/Compute =    2.965\n",
      "Warning: neither block size nor cluster size specified, set according to specified storage width: block size: 1  cluster-size: 1\n"
     ]
    },
    {
     "name": "stderr",
     "output_type": "stream",
     "text": [
      "WARNING: Interpreting 0 to mean full problem dimension instead of residue.\n",
      "WARNING: Interpreting 0 to mean full problem dimension instead of residue.\n",
      "WARNING: Interpreting 0 to mean full problem dimension instead of residue.\n",
      "WARNING: Interpreting 0 to mean full problem dimension instead of residue.\n",
      "WARNING: Interpreting 0 to mean full problem dimension instead of residue.\n",
      "WARNING: Interpreting 0 to mean full problem dimension instead of residue.\n"
     ]
    },
    {
     "name": "stdout",
     "output_type": "stream",
     "text": [
      "Utilization = 1.00 | pJ/Algorithmic-Compute =    1.410 | pJ/Compute =    4.700\n",
      "Warning: neither block size nor cluster size specified, set according to specified storage width: block size: 1  cluster-size: 1\n"
     ]
    },
    {
     "name": "stderr",
     "output_type": "stream",
     "text": [
      "WARNING: Interpreting 0 to mean full problem dimension instead of residue.\n",
      "WARNING: Interpreting 0 to mean full problem dimension instead of residue.\n",
      "WARNING: Interpreting 0 to mean full problem dimension instead of residue.\n",
      "WARNING: Interpreting 0 to mean full problem dimension instead of residue.\n",
      "WARNING: Interpreting 0 to mean full problem dimension instead of residue.\n",
      "WARNING: Interpreting 0 to mean full problem dimension instead of residue.\n"
     ]
    },
    {
     "name": "stdout",
     "output_type": "stream",
     "text": [
      "Utilization = 1.00 | pJ/Algorithmic-Compute =    1.571 | pJ/Compute =    2.618\n",
      "Warning: neither block size nor cluster size specified, set according to specified storage width: block size: 1  cluster-size: 1\n"
     ]
    },
    {
     "name": "stderr",
     "output_type": "stream",
     "text": [
      "WARNING: Interpreting 0 to mean full problem dimension instead of residue.\n",
      "WARNING: Interpreting 0 to mean full problem dimension instead of residue.\n",
      "WARNING: Interpreting 0 to mean full problem dimension instead of residue.\n",
      "WARNING: Interpreting 0 to mean full problem dimension instead of residue.\n",
      "WARNING: Interpreting 0 to mean full problem dimension instead of residue.\n",
      "WARNING: Interpreting 0 to mean full problem dimension instead of residue.\n"
     ]
    },
    {
     "name": "stdout",
     "output_type": "stream",
     "text": [
      "Utilization = 1.00 | pJ/Algorithmic-Compute =    1.612 | pJ/Compute =    2.519\n",
      "Warning: neither block size nor cluster size specified, set according to specified storage width: block size: 1  cluster-size: 1\n"
     ]
    },
    {
     "name": "stderr",
     "output_type": "stream",
     "text": [
      "WARNING: Interpreting 0 to mean full problem dimension instead of residue.\n",
      "WARNING: Interpreting 0 to mean full problem dimension instead of residue.\n",
      "WARNING: Interpreting 0 to mean full problem dimension instead of residue.\n",
      "WARNING: Interpreting 0 to mean full problem dimension instead of residue.\n",
      "WARNING: Interpreting 0 to mean full problem dimension instead of residue.\n",
      "WARNING: Interpreting 0 to mean full problem dimension instead of residue.\n"
     ]
    },
    {
     "name": "stdout",
     "output_type": "stream",
     "text": [
      "Utilization = 1.00 | pJ/Algorithmic-Compute =    1.538 | pJ/Compute =    2.796\n",
      "Warning: neither block size nor cluster size specified, set according to specified storage width: block size: 1  cluster-size: 1\n"
     ]
    },
    {
     "name": "stderr",
     "output_type": "stream",
     "text": [
      "WARNING: Interpreting 0 to mean full problem dimension instead of residue.\n",
      "WARNING: Interpreting 0 to mean full problem dimension instead of residue.\n",
      "WARNING: Interpreting 0 to mean full problem dimension instead of residue.\n",
      "WARNING: Interpreting 0 to mean full problem dimension instead of residue.\n",
      "WARNING: Interpreting 0 to mean full problem dimension instead of residue.\n",
      "WARNING: Interpreting 0 to mean full problem dimension instead of residue.\n"
     ]
    },
    {
     "name": "stdout",
     "output_type": "stream",
     "text": [
      "Utilization = 1.00 | pJ/Algorithmic-Compute =    1.629 | pJ/Compute =    2.507\n",
      "Warning: neither block size nor cluster size specified, set according to specified storage width: block size: 1  cluster-size: 1\n"
     ]
    },
    {
     "name": "stderr",
     "output_type": "stream",
     "text": [
      "WARNING: Interpreting 0 to mean full problem dimension instead of residue.\n",
      "WARNING: Interpreting 0 to mean full problem dimension instead of residue.\n",
      "WARNING: Interpreting 0 to mean full problem dimension instead of residue.\n",
      "WARNING: Interpreting 0 to mean full problem dimension instead of residue.\n",
      "WARNING: Interpreting 0 to mean full problem dimension instead of residue.\n",
      "WARNING: Interpreting 0 to mean full problem dimension instead of residue.\n"
     ]
    },
    {
     "name": "stdout",
     "output_type": "stream",
     "text": [
      "Utilization = 1.00 | pJ/Algorithmic-Compute =    1.628 | pJ/Compute =    2.326\n",
      "Warning: neither block size nor cluster size specified, set according to specified storage width: block size: 1  cluster-size: 1\n"
     ]
    },
    {
     "name": "stderr",
     "output_type": "stream",
     "text": [
      "WARNING: Interpreting 0 to mean full problem dimension instead of residue.\n",
      "WARNING: Interpreting 0 to mean full problem dimension instead of residue.\n",
      "WARNING: Interpreting 0 to mean full problem dimension instead of residue.\n",
      "WARNING: Interpreting 0 to mean full problem dimension instead of residue.\n",
      "WARNING: Interpreting 0 to mean full problem dimension instead of residue.\n",
      "WARNING: Interpreting 0 to mean full problem dimension instead of residue.\n"
     ]
    },
    {
     "name": "stdout",
     "output_type": "stream",
     "text": [
      "Utilization = 1.00 | pJ/Algorithmic-Compute =    1.718 | pJ/Compute =    2.095\n",
      "running design_points_file_path  /home/workspace/2022.micro.artifact/evaluation_setups/fig12_eyerissv2_pe_setup/scripts/../design-points/mobilenet0.5-sparse.yaml\n",
      "output directory: %s  /home/workspace/2022.micro.artifact/evaluation_setups/fig12_eyerissv2_pe_setup/scripts/../outputs/uniform_only/L07/uniform\n",
      "output directory: %s  /home/workspace/2022.micro.artifact/evaluation_setups/fig12_eyerissv2_pe_setup/scripts/../outputs/uniform_only/L27/uniform\n",
      "output directory: %s  /home/workspace/2022.micro.artifact/evaluation_setups/fig12_eyerissv2_pe_setup/scripts/../outputs/uniform_only/L21/uniform\n",
      "output directory: %s  /home/workspace/2022.micro.artifact/evaluation_setups/fig12_eyerissv2_pe_setup/scripts/../outputs/uniform_only/L13/uniform\n",
      "output directory: %s  /home/workspace/2022.micro.artifact/evaluation_setups/fig12_eyerissv2_pe_setup/scripts/../outputs/uniform_only/L19/uniform\n",
      "output directory: %s  /home/workspace/2022.micro.artifact/evaluation_setups/fig12_eyerissv2_pe_setup/scripts/../outputs/uniform_only/L25/uniform\n",
      "output directory: %s  /home/workspace/2022.micro.artifact/evaluation_setups/fig12_eyerissv2_pe_setup/scripts/../outputs/uniform_only/L23/uniform\n",
      "output directory: %s  /home/workspace/2022.micro.artifact/evaluation_setups/fig12_eyerissv2_pe_setup/scripts/../outputs/uniform_only/L09/uniform\n"
     ]
    },
    {
     "name": "stderr",
     "output_type": "stream",
     "text": [
      "\n",
      "real\t0m2.254s\n",
      "user\t0m2.206s\n",
      "sys\t0m0.728s\n"
     ]
    }
   ],
   "source": [
    "%%bash\n",
    "cd ../evaluation_setups/fig12_eyerissv2_pe_setup/scripts\n",
    "echo \"input specs at: ../evaluation_setups/fig12_eyerissv2_pe_setup/\"\n",
    "time python3 sweep.py"
   ]
  },
  {
   "cell_type": "markdown",
   "metadata": {},
   "source": [
    "### Step 2: Parse and generte plot\n",
    "\n",
    "1) run first cell to parse and generate figure\n",
    "\n",
    "2) run next cell to diplay the generated figure\n",
    "\n",
    "3) compare to per layer the ground truth and uniform modeling bars in Fig.12 in the paper"
   ]
  },
  {
   "cell_type": "code",
   "execution_count": 14,
   "metadata": {},
   "outputs": [
    {
     "name": "stdout",
     "output_type": "stream",
     "text": [
      "Fig saved to  /home/workspace/2022.micro.artifact/evaluation_setups/fig12_eyerissv2_pe_setup/outputs/uniform_only/fig.png\n",
      "Figure(640x480)\n"
     ]
    }
   ],
   "source": [
    "%%bash\n",
    "cd ../evaluation_setups/fig12_eyerissv2_pe_setup/scripts\n",
    "python3 parse_and_plot.py"
   ]
  },
  {
   "cell_type": "code",
   "execution_count": 15,
   "metadata": {},
   "outputs": [
    {
     "data": {
      "image/png": "[encoded data removed]",
      "text/plain": [
       "<IPython.core.display.Image object>"
      ]
     },
     "metadata": {},
     "output_type": "display_data"
    }
   ],
   "source": [
    "from IPython.display import Video, Image, HTML, display\n",
    "import matplotlib.pyplot as plt\n",
    "\n",
    "fig = \"../evaluation_setups/fig12_eyerissv2_pe_setup/outputs/uniform_only/fig.png\"\n",
    "\n",
    "display(Image(fig))"
   ]
  },
  {
   "cell_type": "markdown",
   "metadata": {},
   "source": [
    "### Step 3: Run autal data evaluation on three layers ( <30 min)\n",
    "\n",
    "Since actual data based evaluations are slow compared to statistical ones, the default evaluation only run on three layers. Please tune the `--max_layers` knob in the command below if you would like to try more layers.\n",
    "\n",
    "**Note that this also demonstrate that our modeling speed with the statiscal density models are fast, which is the main idea presented in Table 5 in paper**"
   ]
  },
  {
   "cell_type": "code",
   "execution_count": 16,
   "metadata": {
    "scrolled": false
   },
   "outputs": [
    {
     "name": "stdout",
     "output_type": "stream",
     "text": [
      "input specs at: ../evaluation_setups/fig12_eyerissv2_pe_setup/\n",
      "Warning: neither block size nor cluster size specified, set according to specified storage width: block size: 1  cluster-size: 1\n"
     ]
    },
    {
     "name": "stderr",
     "output_type": "stream",
     "text": [
      "WARNING: Interpreting 0 to mean full problem dimension instead of residue.\n",
      "WARNING: Interpreting 0 to mean full problem dimension instead of residue.\n",
      "WARNING: Interpreting 0 to mean full problem dimension instead of residue.\n",
      "WARNING: Interpreting 0 to mean full problem dimension instead of residue.\n",
      "WARNING: Interpreting 0 to mean full problem dimension instead of residue.\n",
      "WARNING: Interpreting 0 to mean full problem dimension instead of residue.\n"
     ]
    },
    {
     "name": "stdout",
     "output_type": "stream",
     "text": [
      "Utilization = 1.00 | pJ/Algorithmic-Compute =    1.542 | pJ/Compute =    2.965\n",
      "INFO: real data model: /home/workspace/2022.micro.artifact/evaluation_setups/fig12_eyerissv2_pe_setup/scripts/../workload/mobilenet0.5-sparse/actual_data/actual_data_masks/L07_weights.txt detected global density: 2131/4096= 0.520264\n",
      "INFO: real data model: /home/workspace/2022.micro.artifact/evaluation_setups/fig12_eyerissv2_pe_setup/scripts/../workload/mobilenet0.5-sparse/actual_data/actual_data_masks/L07_iacts.txt detected global density: 47716/65536= 0.728088\n",
      "Warning: neither block size nor cluster size specified, set according to specified storage width: block size: 1  cluster-size: 1\n"
     ]
    },
    {
     "name": "stderr",
     "output_type": "stream",
     "text": [
      "WARNING: Interpreting 0 to mean full problem dimension instead of residue.\n",
      "WARNING: Interpreting 0 to mean full problem dimension instead of residue.\n",
      "WARNING: Interpreting 0 to mean full problem dimension instead of residue.\n",
      "WARNING: Interpreting 0 to mean full problem dimension instead of residue.\n",
      "WARNING: Interpreting 0 to mean full problem dimension instead of residue.\n",
      "WARNING: Interpreting 0 to mean full problem dimension instead of residue.\n",
      "Interrupt caught. Terminating after completing ongoing evaluation.\n"
     ]
    },
    {
     "name": "stdout",
     "output_type": "stream",
     "text": [
      "Error while terminating subprocess (pid=528): \n"
     ]
    }
   ],
   "source": [
    "%%bash\n",
    "cd ../evaluation_setups/fig12_eyerissv2_pe_setup/scripts\n",
    "echo \"input specs at: ../evaluation_setups/fig12_eyerissv2_pe_setup/\"\n",
    "\n",
    "# update the number of max layers below (<=8) to see more bar groups in fig12, but the run will take longer\n",
    "time python3 sweep.py --include_actual --max_layers 3"
   ]
  },
  {
   "cell_type": "markdown",
   "metadata": {},
   "source": [
    "### Step 4: Parse and generate plot\n",
    "\n",
    "\n",
    "1) run first cell to parse and generate figure\n",
    "\n",
    "2) run next cell to diplay the generated figure\n",
    "\n",
    "3) compare to the group of bars for **L07** in Fig.12 in the paper. \n",
    "   The main idea here is that compared to `baseline`, `acutal_data` based evlauation is able to accurately capture design behaviors with no error, whereas there is some error due statistical approximations when using the `uniform` distribution."
   ]
  },
  {
   "cell_type": "code",
   "execution_count": 17,
   "metadata": {},
   "outputs": [
    {
     "name": "stdout",
     "output_type": "stream",
     "text": [
      "running design_points_file_path  /home/workspace/2022.micro.artifact/evaluation_setups/fig12_eyerissv2_pe_setup/scripts/../design-points/mobilenet0.5-sparse_with_actual.yaml\n",
      "output directory: %s  /home/workspace/2022.micro.artifact/evaluation_setups/fig12_eyerissv2_pe_setup/scripts/../outputs/uniform_actual/L07/uniform\n",
      "output directory: %s  /home/workspace/2022.micro.artifact/evaluation_setups/fig12_eyerissv2_pe_setup/scripts/../outputs/uniform_actual/L07/actual_data\n"
     ]
    },
    {
     "name": "stderr",
     "output_type": "stream",
     "text": [
      "Traceback (most recent call last):\n",
      "  File \"sweep.py\", line 120, in <module>\n",
      "    main(design_points_file_path, base_output_dir, max_layers)\n",
      "  File \"sweep.py\", line 80, in main\n",
      "    status = subprocess.call(subprocess_cmd) \n",
      "  File \"/usr/local/bin/conda/lib/python3.8/subprocess.py\", line 342, in call\n",
      "    return p.wait(timeout=timeout)\n",
      "  File \"/usr/local/bin/conda/lib/python3.8/subprocess.py\", line 1083, in wait\n",
      "    return self._wait(timeout=timeout)\n",
      "  File \"/usr/local/bin/conda/lib/python3.8/subprocess.py\", line 1806, in _wait\n",
      "    (pid, sts) = self._try_wait(0)\n",
      "  File \"/usr/local/bin/conda/lib/python3.8/subprocess.py\", line 1764, in _try_wait\n",
      "    (pid, sts) = os.waitpid(self.pid, wait_flags)\n",
      "KeyboardInterrupt\n"
     ]
    },
    {
     "name": "stdout",
     "output_type": "stream",
     "text": [
      "Fig saved to  /home/workspace/2022.micro.artifact/evaluation_setups/fig12_eyerissv2_pe_setup/outputs/uniform_actual/fig.png\n",
      "Figure(640x480)\n"
     ]
    }
   ],
   "source": [
    "%%bash\n",
    "cd ../evaluation_setups/fig12_eyerissv2_pe_setup/scripts\n",
    "python3 parse_and_plot.py --include_actual"
   ]
  },
  {
   "cell_type": "code",
   "execution_count": null,
   "metadata": {},
   "outputs": [],
   "source": [
    "from IPython.display import Video, Image, HTML, display\n",
    "import matplotlib.pyplot as plt\n",
    "\n",
    "fig = \"../evaluation_setups/fig12_eyerissv2_pe_setup/outputs/uniform_actual/fig.png\"\n",
    "\n",
    "display(Image(fig))"
   ]
  },
  {
   "cell_type": "markdown",
   "metadata": {},
   "source": [
    "## Eval 3: Eyeriss Validation (Table 7 in paper)\n",
    "\n",
    "We simulate the AlexNet Conv layers on the Eyeriss accelerator, and present the DRAM traffic compression ratio. \n",
    "\n",
    "\n",
    "### Step 1: Run sweep (< 5min)"
   ]
  },
  {
   "cell_type": "code",
   "execution_count": null,
   "metadata": {
    "scrolled": true
   },
   "outputs": [],
   "source": [
    "%%bash\n",
    "cd ../evaluation_setups/table7_eyeriss_setup/scripts\n",
    "echo \"input specs at: ../evaluation_setups/table7_eyeriss_setup/\"\n",
    "time python3 sweep.py \n",
    "# To enable mapspace search, uncomment command below (note that the run will take much longer)\n",
    "# mapspace search might end up with a slightly different mapping due to runtime randomness\n",
    "# time python3 sweep.py --search_mapping"
   ]
  },
  {
   "cell_type": "markdown",
   "metadata": {},
   "source": [
    "### Step 2: Parse and generate table\n",
    "\n",
    "1) run the first cell to parse results and print table entries\n",
    "\n",
    "2) compare the entries to the second row in table 7 in the paper\n",
    "\n",
    "***Please note that we used the public 45nm data for energy modeling in this evaluation instead of the 65nm private PDK used in our paper's evaluations.*** *Although the the DRAM compression ratio is not impacted, the energy reported in the raw results can be different. However, we do see significant energy reduction with the gating SAF implemented in this architecture.*"
   ]
  },
  {
   "cell_type": "code",
   "execution_count": null,
   "metadata": {},
   "outputs": [],
   "source": [
    "%%bash\n",
    "cd ../evaluation_setups/table7_eyeriss_setup/scripts\n",
    "python3 parse_and_plot.py\n",
    "\n",
    "# If used mapspace search in the previous step\n",
    "# python3 parse_and_plot.py --stats_prefix timeloop-mapper"
   ]
  },
  {
   "cell_type": "markdown",
   "metadata": {},
   "source": [
    "## Eval 4: Dual Side Sparse Tensor Core Validation (Fig.13 in paper)\n",
    "\n",
    "We simulate matrix multiplication workloads with various sparsity degrees running on dual side sparse tensor core design.\n",
    "\n",
    "### Step 1: Run sweep ( < 5min)"
   ]
  },
  {
   "cell_type": "code",
   "execution_count": null,
   "metadata": {},
   "outputs": [],
   "source": [
    "%%bash\n",
    "cd ../evaluation_setups/fig13_dstc_setup/scripts\n",
    "echo \"input specs at: ../evaluation_setups/fig13_dstc_setup/\"\n",
    "time python3 sweep.py"
   ]
  },
  {
   "cell_type": "markdown",
   "metadata": {},
   "source": [
    "### Step 2: Parse and generate plot\n",
    "\n",
    "1) run first cell to parse and generate figure\n",
    "\n",
    "2) run next cell to diplay the generated figure\n",
    "\n",
    "3) compare to Fig.13 in the paper"
   ]
  },
  {
   "cell_type": "code",
   "execution_count": null,
   "metadata": {},
   "outputs": [],
   "source": [
    "%%bash\n",
    "cd ../evaluation_setups/fig13_dstc_setup/scripts\n",
    "python3 parse_and_plot.py"
   ]
  },
  {
   "cell_type": "code",
   "execution_count": null,
   "metadata": {},
   "outputs": [],
   "source": [
    "from IPython.display import Video, Image, HTML, display\n",
    "import matplotlib.pyplot as plt\n",
    "\n",
    "fig = \"../evaluation_setups/fig13_dstc_setup/outputs/fig.png\"\n",
    "\n",
    "display(Image(fig))"
   ]
  },
  {
   "cell_type": "markdown",
   "metadata": {},
   "source": [
    "## Eval 5: Sparse tensor core validation and the related case study (Figure 15 in paper)\n",
    "\n",
    "We simulate the selected ResNet50 layers on the sparse tensor core (STC) accelerator and compare various sparse designs based on the tensor core setup. \n",
    "\n",
    "Please see more details on the various designs validated/explored in Section 6.3.5 and Section 6.4 in the paper. \n",
    "\n",
    "\n",
    "### Step 1: Run sweep ( < 8min)"
   ]
  },
  {
   "cell_type": "code",
   "execution_count": null,
   "metadata": {
    "scrolled": false
   },
   "outputs": [],
   "source": [
    "%%bash\n",
    "cd ../evaluation_setups/fig15_stc_related_setup/scripts\n",
    "echo \"input specs at: ../evaluation_setups/fig15_stc_related_setup/\"\n",
    "time python3 sweep.py\n",
    "# To enable mapspace search, uncomment command below (note that the run will take much longer)\n",
    "# mapspace search might end up with a slightly different mapping due to runtime randomness\n",
    "# time python3 sweep.py --search_mapping"
   ]
  },
  {
   "cell_type": "markdown",
   "metadata": {},
   "source": [
    "### Step2: Parse and generate plot\n",
    "\n",
    "1) run first cell to parse and generate figures\n",
    "\n",
    "2) run second cell to display the figures\n",
    "\n",
    "3) compare the generated figure to Fig.15 in the paper\n",
    "\n",
    "  ***Please note that we used the public 45nm data for energy modeling in this evaluation instead of the 65nm private PDK used in our paper's evaluations.*** As a result, the normalized cycles will match the figure presented in paper, but **the normalized energy will not be an exact match. However, the trends do stay the same for both technology nodes.**\n"
   ]
  },
  {
   "cell_type": "code",
   "execution_count": null,
   "metadata": {},
   "outputs": [],
   "source": [
    "%%bash\n",
    "cd ../evaluation_setups/fig15_stc_related_setup/scripts\n",
    "python3 parse_and_plot.py --raw ../outputs/resnet50_selected/*\n",
    "\n",
    "# If used mapspace search in the previous step\n",
    "# python3 parse_and_plot.py --raw ../outputs/resnet50_selected/* --stats_prefix timeloop-mapper"
   ]
  },
  {
   "cell_type": "code",
   "execution_count": null,
   "metadata": {},
   "outputs": [],
   "source": [
    "from IPython.display import Video, Image, HTML, display\n",
    "import matplotlib.pyplot as plt\n",
    "\n",
    "cycles_fig = \"../evaluation_setups/fig15_stc_related_setup/outputs/fig_cycles.png\"\n",
    "energy_fig = \"../evaluation_setups/fig15_stc_related_setup/outputs/fig_energy.png\"\n",
    "\n",
    "display(Image(cycles_fig))\n",
    "display(Image(energy_fig))"
   ]
  },
  {
   "cell_type": "code",
   "execution_count": null,
   "metadata": {},
   "outputs": [],
   "source": []
  }
 ],
 "metadata": {
  "kernelspec": {
   "display_name": "Python 3 (ipykernel)",
   "language": "python",
   "name": "python3"
  },
  "language_info": {
   "codemirror_mode": {
    "name": "ipython",
    "version": 3
   },
   "file_extension": ".py",
   "mimetype": "text/x-python",
   "name": "python",
   "nbconvert_exporter": "python",
   "pygments_lexer": "ipython3",
   "version": "3.8.13"
  }
 },
 "nbformat": 4,
 "nbformat_minor": 4
}
