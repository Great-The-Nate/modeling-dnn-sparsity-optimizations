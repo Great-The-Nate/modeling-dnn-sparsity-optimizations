{
 "cells": [
  {
   "cell_type": "markdown",
   "metadata": {},
   "source": [
    "# MICRO 2022 Artifact Evaluation\n",
    "# Sparseloop: An Analytical Approach To Sparse Tensor Accelerator Modeling\n",
    "### Yannan N. Wu, Po-An Tsai, Angshuman Parashar, Vivienne Sze, Joel S. Emer"
   ]
  },
  {
   "cell_type": "markdown",
   "metadata": {},
   "source": [
    "## Context\n",
    "\n",
    "In this artifact, we provide evaluation setups for the important experiments (the motivating example, validations for accelerator designs, and the case study). Please follow the instructions in each cell to run the evaluations.\n",
    "\n",
    "For each experiment, we give a *very conservative estimate* of how long the runs will take. The input specifications and related scripts can be found in `../evaluation_setups`. **The easiest way to validate the outputs is to compare the generated figure/table to the figure/table in the paper**, but we do provide a `ref_outputs` folder for each evaluation for more detailed comparison of results if necessary.\n",
    "\n",
    "\n",
    "\n",
    "***Please note that to allow easier and faster reproduction, for most of the experiments, we directly provide the mappings found by our offline search*** *instead of letting Sparseloop performing online seach for the best mapping.* ***Sparseloop does allow automatic exploration of various mappings*** *as demonstrated in eval1 (more information on tool usage can be found [here](https://accelergy.mit.edu/tutorial.html) and [here](https://accelergy.mit.edu/sparse_tutorial.html)).*\n",
    "\n",
    "\n",
    "### If you have any questions, please feel free to reach out at timeloop-accelergy@mit.edu. Thanks!\n",
    "\n"
   ]
  },
  {
   "cell_type": "markdown",
   "metadata": {},
   "source": [
    "\n",
    "## Eval 1: Data representation format comparison (Fig.1 in paper)\n",
    "\n",
    "This evaluation compares the processing speed and energy efficiency of two architectures that support different representation formats: 1) bitmask with gating; 2) coordinate list with skipping, running matrix multiplication workloads with various density degrees\n",
    "\n",
    "### Step 1: Run sweep  ( <5min)"
   ]
  },
  {
   "cell_type": "code",
   "execution_count": null,
   "metadata": {
    "scrolled": true
   },
   "outputs": [],
   "source": [
    "%%bash\n",
    "cd ../evaluation_setups/fig1_format_comparison_setup/scripts\n",
    "echo \"input specs at: ../evaluation_setups/fig1_format_comparison_setup/\"\n",
    "chmod +x sweep.sh\n",
    "time ./sweep.sh"
   ]
  },
  {
   "cell_type": "markdown",
   "metadata": {},
   "source": [
    "### Step 2: Parse and generate plot\n",
    "1) run first cell to parse and plot\n",
    "\n",
    "2) run next cell to display the generated figures\n",
    "\n",
    "3) compare the figures to Fig.1 in paper"
   ]
  },
  {
   "cell_type": "code",
   "execution_count": null,
   "metadata": {},
   "outputs": [],
   "source": [
    "%%bash\n",
    "cd ../evaluation_setups/fig1_format_comparison_setup/scripts\n",
    "time python3 parse_and_plot.py"
   ]
  },
  {
   "cell_type": "code",
   "execution_count": null,
   "metadata": {},
   "outputs": [],
   "source": [
    "from IPython.display import Video, Image, HTML, display\n",
    "import matplotlib.pyplot as plt\n",
    "\n",
    "cycles_fig = \"../evaluation_setups/fig1_format_comparison_setup/outputs/fig_cycles.png\"\n",
    "energy_fig = \"../evaluation_setups/fig1_format_comparison_setup/outputs/fig_energy_pJ.png\"\n",
    "\n",
    "display(Image(cycles_fig))\n",
    "display(Image(energy_fig))"
   ]
  },
  {
   "cell_type": "markdown",
   "metadata": {},
   "source": [
    "## Eval 2: EyerissV2 PE Validation ( 1. Fig.12 in paper; 2. showcase the main idea presented in Table 5)\n",
    "\n",
    "We simulate mobilenet0.5 layers on a variation of eyeriss v2 PE with one compute unit.\n",
    "\n",
    "We show experimental setups for both running evaluations with statistical density model (uniform density model) and actual data based density model. The modeling time is much longer with actual data based model. **This fact showcases the idea presented in Table 5: analytical modeling with statisical density model allows faster modeling.** (*Experiments for Table 5 requires manaul instrumantaion into the source code, which is not convienent for non-developers to setup, so we use this evlauation to showcase the main idea.*)\n",
    "\n",
    "### Step 1: Run sweep with statistical density modeling (< 3min)"
   ]
  },
  {
   "cell_type": "code",
   "execution_count": null,
   "metadata": {
    "scrolled": true
   },
   "outputs": [],
   "source": [
    "%%bash\n",
    "cd ../evaluation_setups/fig12_eyerissv2_pe_setup/scripts\n",
    "echo \"input specs at: ../evaluation_setups/fig12_eyerissv2_pe_setup/\"\n",
    "time python3 sweep.py"
   ]
  },
  {
   "cell_type": "markdown",
   "metadata": {},
   "source": [
    "### Step 2: Parse and generte plot\n",
    "\n",
    "1) run first cell to parse and generate figure\n",
    "\n",
    "2) run next cell to diplay the generated figure\n",
    "\n",
    "3) compare to per layer the ground truth and uniform modeling bars in Fig.12 in the paper"
   ]
  },
  {
   "cell_type": "code",
   "execution_count": null,
   "metadata": {},
   "outputs": [],
   "source": [
    "%%bash\n",
    "cd ../evaluation_setups/fig12_eyerissv2_pe_setup/scripts\n",
    "python3 parse_and_plot.py"
   ]
  },
  {
   "cell_type": "code",
   "execution_count": null,
   "metadata": {},
   "outputs": [],
   "source": [
    "from IPython.display import Video, Image, HTML, display\n",
    "import matplotlib.pyplot as plt\n",
    "\n",
    "fig = \"../evaluation_setups/fig12_eyerissv2_pe_setup/outputs/uniform_only/fig.png\"\n",
    "\n",
    "display(Image(fig))"
   ]
  },
  {
   "cell_type": "markdown",
   "metadata": {},
   "source": [
    "### Step 3: Run autal data evaluation on three layers ( <30 min)\n",
    "\n",
    "Since actual data based evaluations are slow compared to statistical ones, the default evaluation only run on three layers. Please tune the `--max_layers` knob in the command below if you would like to try more layers.\n",
    "\n",
    "**Note that this also demonstrate that our modeling speed with the statiscal density models are fast, which is the main idea presented in Table 5 in paper**"
   ]
  },
  {
   "cell_type": "code",
   "execution_count": null,
   "metadata": {
    "scrolled": false
   },
   "outputs": [],
   "source": [
    "%%bash\n",
    "cd ../evaluation_setups/fig12_eyerissv2_pe_setup/scripts\n",
    "echo \"input specs at: ../evaluation_setups/fig12_eyerissv2_pe_setup/\"\n",
    "\n",
    "# update the number of max layers below (<=8) to see more bar groups in fig12, but the run will take longer\n",
    "time python3 sweep.py --include_actual --max_layers 3"
   ]
  },
  {
   "cell_type": "markdown",
   "metadata": {},
   "source": [
    "### Step 4: Parse and generate plot\n",
    "\n",
    "\n",
    "1) run first cell to parse and generate figure\n",
    "\n",
    "2) run next cell to diplay the generated figure\n",
    "\n",
    "3) compare to the group of bars for **L07** in Fig.12 in the paper. \n",
    "   The main idea here is that compared to `baseline`, `acutal_data` based evlauation is able to accurately capture design behaviors with no error, whereas there is some error due statistical approximations when using the `uniform` distribution."
   ]
  },
  {
   "cell_type": "code",
   "execution_count": null,
   "metadata": {},
   "outputs": [],
   "source": [
    "%%bash\n",
    "cd ../evaluation_setups/fig12_eyerissv2_pe_setup/scripts\n",
    "python3 parse_and_plot.py --include_actual"
   ]
  },
  {
   "cell_type": "code",
   "execution_count": null,
   "metadata": {},
   "outputs": [],
   "source": [
    "from IPython.display import Video, Image, HTML, display\n",
    "import matplotlib.pyplot as plt\n",
    "\n",
    "fig = \"../evaluation_setups/fig12_eyerissv2_pe_setup/outputs/uniform_actual/fig.png\"\n",
    "\n",
    "display(Image(fig))"
   ]
  },
  {
   "cell_type": "markdown",
   "metadata": {},
   "source": [
    "## Eval 3: Eyeriss Validation (Table 7 in paper)\n",
    "\n",
    "We simulate the AlexNet Conv layers on the Eyeriss accelerator, and present the DRAM traffic compression ratio. \n",
    "\n",
    "\n",
    "### Step 1: Run sweep (< 5min)"
   ]
  },
  {
   "cell_type": "code",
   "execution_count": null,
   "metadata": {
    "scrolled": true
   },
   "outputs": [],
   "source": [
    "%%bash\n",
    "cd ../evaluation_setups/table7_eyeriss_setup/scripts\n",
    "echo \"input specs at: ../evaluation_setups/table7_eyeriss_setup/\"\n",
    "time python3 sweep.py \n",
    "# To enable mapspace search, uncomment command below (note that the run will take much longer)\n",
    "# mapspace search might end up with a slightly different mapping due to runtime randomness\n",
    "# time python3 sweep.py --search_mapping"
   ]
  },
  {
   "cell_type": "markdown",
   "metadata": {},
   "source": [
    "### Step 2: Parse and generate table\n",
    "\n",
    "1) run the first cell to parse results and print table entries\n",
    "\n",
    "2) compare the entries to the second row in table 7 in the paper\n",
    "\n",
    "***Please note that we used the public 45nm data for energy modeling in this evaluation instead of the 65nm private PDK used in our paper's evaluations.*** *Although the the DRAM compression ratio is not impacted, the energy reported in the raw results can be different. However, we do see significant energy reduction with the gating SAF implemented in this architecture.*"
   ]
  },
  {
   "cell_type": "code",
   "execution_count": null,
   "metadata": {},
   "outputs": [],
   "source": [
    "%%bash\n",
    "cd ../evaluation_setups/table7_eyeriss_setup/scripts\n",
    "python3 parse_and_plot.py\n",
    "\n",
    "# If used mapspace search in the previous step\n",
    "# python3 parse_and_plot.py --stats_prefix timeloop-mapper"
   ]
  },
  {
   "cell_type": "markdown",
   "metadata": {},
   "source": [
    "## Eval 4: Dual Side Sparse Tensor Core Validation (Fig.13 in paper)\n",
    "\n",
    "We simulate matrix multiplication workloads with various sparsity degrees running on dual side sparse tensor core design.\n",
    "\n",
    "### Step 1: Run sweep ( < 5min)"
   ]
  },
  {
   "cell_type": "code",
   "execution_count": null,
   "metadata": {},
   "outputs": [],
   "source": [
    "%%bash\n",
    "cd ../evaluation_setups/fig13_dstc_setup/scripts\n",
    "echo \"input specs at: ../evaluation_setups/fig13_dstc_setup/\"\n",
    "time python3 sweep.py"
   ]
  },
  {
   "cell_type": "markdown",
   "metadata": {},
   "source": [
    "### Step 2: Parse and generate plot\n",
    "\n",
    "1) run first cell to parse and generate figure\n",
    "\n",
    "2) run next cell to diplay the generated figure\n",
    "\n",
    "3) compare to Fig.13 in the paper"
   ]
  },
  {
   "cell_type": "code",
   "execution_count": null,
   "metadata": {},
   "outputs": [],
   "source": [
    "%%bash\n",
    "cd ../evaluation_setups/fig13_dstc_setup/scripts\n",
    "python3 parse_and_plot.py"
   ]
  },
  {
   "cell_type": "code",
   "execution_count": null,
   "metadata": {},
   "outputs": [],
   "source": [
    "from IPython.display import Video, Image, HTML, display\n",
    "import matplotlib.pyplot as plt\n",
    "\n",
    "fig = \"../evaluation_setups/fig13_dstc_setup/outputs/fig.png\"\n",
    "\n",
    "display(Image(fig))"
   ]
  },
  {
   "cell_type": "markdown",
   "metadata": {},
   "source": [
    "## Eval 5: Sparse tensor core validation and the related case study (Figure 15 in paper)\n",
    "\n",
    "We simulate the selected ResNet50 layers on the sparse tensor core (STC) accelerator and compare various sparse designs based on the tensor core setup. \n",
    "\n",
    "Please see more details on the various designs validated/explored in Section 6.3.5 and Section 6.4 in the paper. \n",
    "\n",
    "\n",
    "### Step 1: Run sweep ( < 8min)"
   ]
  },
  {
   "cell_type": "code",
   "execution_count": 1,
   "metadata": {
    "scrolled": false
   },
   "outputs": [
    {
     "name": "stdout",
     "output_type": "stream",
     "text": [
      "input specs at: ../evaluation_setups/fig15_stc_related_setup/\n",
      "Utilization = 1.00 | pJ/Compute =    1.832\n",
      "Utilization = 1.00 | pJ/Algorithmic-Compute =    1.643 | pJ/Compute =    1.643\n",
      "Utilization = 1.00 | pJ/Algorithmic-Compute =    1.643 | pJ/Compute =    1.643\n",
      "Utilization = 1.00 | pJ/Algorithmic-Compute =    1.643 | pJ/Compute =    1.643\n",
      "Utilization = 1.00 | pJ/Compute =    1.845\n",
      "Utilization = 0.83 | pJ/Algorithmic-Compute =    2.415 | pJ/Compute =    5.489\n",
      "Utilization = 1.00 | pJ/Algorithmic-Compute =    1.682 | pJ/Compute =    1.682\n",
      "Utilization = 1.00 | pJ/Algorithmic-Compute =    1.311 | pJ/Compute =    1.311\n",
      "Utilization = 1.00 | pJ/Algorithmic-Compute =    1.682 | pJ/Compute =    1.682\n",
      "Utilization = 0.72 | pJ/Algorithmic-Compute =    1.502 | pJ/Compute =    5.564\n",
      "Utilization = 1.00 | pJ/Algorithmic-Compute =    1.682 | pJ/Compute =    1.682\n",
      "Utilization = 1.00 | pJ/Algorithmic-Compute =    1.271 | pJ/Compute =    1.271\n",
      "Utilization = 1.00 | pJ/Compute =    1.781\n",
      "Utilization = 1.00 | pJ/Algorithmic-Compute =    1.649 | pJ/Compute =    1.649\n",
      "Utilization = 1.00 | pJ/Algorithmic-Compute =    1.649 | pJ/Compute =    1.649\n",
      "Utilization = 0.81 | pJ/Algorithmic-Compute =    2.943 | pJ/Compute =    5.255\n",
      "Utilization = 1.00 | pJ/Algorithmic-Compute =    1.649 | pJ/Compute =    1.649\n",
      "Utilization = 1.00 | pJ/Algorithmic-Compute =    1.566 | pJ/Compute =    1.566\n",
      "Utilization = 1.00 | pJ/Compute =    1.531\n",
      "Utilization = 1.00 | pJ/Algorithmic-Compute =    1.398 | pJ/Compute =    1.398\n",
      "Utilization = 1.00 | pJ/Algorithmic-Compute =    1.398 | pJ/Compute =    1.398\n",
      "Utilization = 1.00 | pJ/Algorithmic-Compute =    1.398 | pJ/Compute =    1.398\n",
      "Utilization = 1.00 | pJ/Algorithmic-Compute =    4.495 | pJ/Compute =    4.495\n",
      "Utilization = 1.00 | pJ/Compute =    1.832\n",
      "Utilization = 1.00 | pJ/Algorithmic-Compute =    1.369 | pJ/Compute =    1.369\n",
      "Utilization = 1.00 | pJ/Algorithmic-Compute =    1.149 | pJ/Compute =    2.297\n",
      "Utilization = 1.00 | pJ/Algorithmic-Compute =    1.149 | pJ/Compute =    2.297\n",
      "sweep list path:  /home/workspace/2022.micro.artifact/evaluation_setups/fig15_stc_related_setup/scripts/../architecture_templates/HW_systems/design_points/MICRO22-STC-Case-Study.yaml\n",
      "[{'configurations': {'dataflow': 'FlexibleGH-Ms-constraints'},\n",
      "  'design_name': 'TC-RF2x-24-bandwidth'},\n",
      " {'configurations': {'dataflow': 'FlexibleGH-Ms-constraints',\n",
      "                     'representation': 'CP',\n",
      "                     'sparse_optimizations': 'RF-spatial-skipping'},\n",
      "  'design_name': 'STC-RF2x-24-bandwidth'},\n",
      " {'configurations': {'dataflow': 'DSTC-Os-constraints',\n",
      "                     'representation': 'B',\n",
      "                     'sparse_optimizations': 'LRF-PosTiling'},\n",
      "  'design_name': 'DSTC-RF2x-24-bandwidth'},\n",
      " {'configurations': {'dataflow': 'FlexibleGH-Ms-constraints',\n",
      "                     'representation': 'CP',\n",
      "                     'sparse_optimizations': 'RF-spatial-skipping'},\n",
      "  'design_name': 'STC_flexible-RF2x-24-bandwidth'},\n",
      " {'configurations': {'dataflow': 'FlexibleGH-Ms-constraints',\n",
      "                     'representation': 'RLE',\n",
      "                     'sparse_optimizations': 'RF-spatial-skipping'},\n",
      "  'design_name': 'STC_flexible-RF2x-24-bandwidth-RLE'},\n",
      " {'configurations': {'dataflow': 'FlexibleGH-Ms-constraints',\n",
      "                     'representation': 'RLE',\n",
      "                     'sparse_optimizations': 'RF-spatial-skipping-compressAB'},\n",
      "  'design_name': 'STC_flexible_dualCompress-RF2x-24-bandwidth-RLE'}]\n",
      "\n",
      "INFO: generating per layer results for:  1.0\n",
      "Found and overwrite existing results:  /home/workspace/2022.micro.artifact/evaluation_setups/fig15_stc_related_setup/scripts/../outputs/resnet50_selected/WD-1.0/M128-K1152-N1024-IAD0.44-WD1.0/TC-RF2x-24-bandwidth/output\n",
      "Found and overwrite existing results:  /home/workspace/2022.micro.artifact/evaluation_setups/fig15_stc_related_setup/scripts/../outputs/resnet50_selected/WD-1.0/M128-K1152-N1024-IAD0.44-WD1.0/STC-RF2x-24-bandwidth/output\n",
      "Found and overwrite existing results:  /home/workspace/2022.micro.artifact/evaluation_setups/fig15_stc_related_setup/scripts/../outputs/resnet50_selected/WD-1.0/M128-K1152-N1024-IAD0.44-WD1.0/DSTC-RF2x-24-bandwidth/output\n",
      "Found and overwrite existing results:  /home/workspace/2022.micro.artifact/evaluation_setups/fig15_stc_related_setup/scripts/../outputs/resnet50_selected/WD-1.0/M128-K1152-N1024-IAD0.44-WD1.0/STC_flexible-RF2x-24-bandwidth/output\n",
      "Found and overwrite existing results:  /home/workspace/2022.micro.artifact/evaluation_setups/fig15_stc_related_setup/scripts/../outputs/resnet50_selected/WD-1.0/M128-K1152-N1024-IAD0.44-WD1.0/STC_flexible-RF2x-24-bandwidth-RLE/output\n",
      "Found and overwrite existing results:  /home/workspace/2022.micro.artifact/evaluation_setups/fig15_stc_related_setup/scripts/../outputs/resnet50_selected/WD-1.0/M128-K1152-N1024-IAD0.44-WD1.0/STC_flexible_dualCompress-RF2x-24-bandwidth-RLE/output\n",
      "Found and overwrite existing results:  /home/workspace/2022.micro.artifact/evaluation_setups/fig15_stc_related_setup/scripts/../outputs/resnet50_selected/WD-1.0/M512-K1024-N256-IAD0.27-WD1.0/TC-RF2x-24-bandwidth/output\n",
      "Found and overwrite existing results:  /home/workspace/2022.micro.artifact/evaluation_setups/fig15_stc_related_setup/scripts/../outputs/resnet50_selected/WD-1.0/M512-K1024-N256-IAD0.27-WD1.0/STC-RF2x-24-bandwidth/output\n",
      "Found and overwrite existing results:  /home/workspace/2022.micro.artifact/evaluation_setups/fig15_stc_related_setup/scripts/../outputs/resnet50_selected/WD-1.0/M512-K1024-N256-IAD0.27-WD1.0/DSTC-RF2x-24-bandwidth/output\n",
      "Found and overwrite existing results:  /home/workspace/2022.micro.artifact/evaluation_setups/fig15_stc_related_setup/scripts/../outputs/resnet50_selected/WD-1.0/M512-K1024-N256-IAD0.27-WD1.0/STC_flexible-RF2x-24-bandwidth/output\n",
      "Found and overwrite existing results:  /home/workspace/2022.micro.artifact/evaluation_setups/fig15_stc_related_setup/scripts/../outputs/resnet50_selected/WD-1.0/M512-K1024-N256-IAD0.27-WD1.0/STC_flexible-RF2x-24-bandwidth-RLE/output\n",
      "Found and overwrite existing results:  /home/workspace/2022.micro.artifact/evaluation_setups/fig15_stc_related_setup/scripts/../outputs/resnet50_selected/WD-1.0/M512-K1024-N256-IAD0.27-WD1.0/STC_flexible_dualCompress-RF2x-24-bandwidth-RLE/output\n",
      "Found and overwrite existing results:  /home/workspace/2022.micro.artifact/evaluation_setups/fig15_stc_related_setup/scripts/../outputs/resnet50_selected/WD-1.0/M512-K128-N1024-IAD0.56-WD1.0/TC-RF2x-24-bandwidth/output\n",
      "Found and overwrite existing results:  /home/workspace/2022.micro.artifact/evaluation_setups/fig15_stc_related_setup/scripts/../outputs/resnet50_selected/WD-1.0/M512-K128-N1024-IAD0.56-WD1.0/STC-RF2x-24-bandwidth/output\n",
      "Found and overwrite existing results:  /home/workspace/2022.micro.artifact/evaluation_setups/fig15_stc_related_setup/scripts/../outputs/resnet50_selected/WD-1.0/M512-K128-N1024-IAD0.56-WD1.0/DSTC-RF2x-24-bandwidth/output\n",
      "Found and overwrite existing results:  /home/workspace/2022.micro.artifact/evaluation_setups/fig15_stc_related_setup/scripts/../outputs/resnet50_selected/WD-1.0/M512-K128-N1024-IAD0.56-WD1.0/STC_flexible-RF2x-24-bandwidth/output\n",
      "Found and overwrite existing results:  /home/workspace/2022.micro.artifact/evaluation_setups/fig15_stc_related_setup/scripts/../outputs/resnet50_selected/WD-1.0/M512-K128-N1024-IAD0.56-WD1.0/STC_flexible-RF2x-24-bandwidth-RLE/output\n",
      "Found and overwrite existing results:  /home/workspace/2022.micro.artifact/evaluation_setups/fig15_stc_related_setup/scripts/../outputs/resnet50_selected/WD-1.0/M512-K128-N1024-IAD0.56-WD1.0/STC_flexible_dualCompress-RF2x-24-bandwidth-RLE/output\n",
      "Found and overwrite existing results:  /home/workspace/2022.micro.artifact/evaluation_setups/fig15_stc_related_setup/scripts/../outputs/resnet50_selected/WD-1.0/M512-K256-N1024-IAD0.82-WD1.0/TC-RF2x-24-bandwidth/output\n",
      "Found and overwrite existing results:  /home/workspace/2022.micro.artifact/evaluation_setups/fig15_stc_related_setup/scripts/../outputs/resnet50_selected/WD-1.0/M512-K256-N1024-IAD0.82-WD1.0/STC-RF2x-24-bandwidth/output\n",
      "Found and overwrite existing results:  /home/workspace/2022.micro.artifact/evaluation_setups/fig15_stc_related_setup/scripts/../outputs/resnet50_selected/WD-1.0/M512-K256-N1024-IAD0.82-WD1.0/DSTC-RF2x-24-bandwidth/output\n"
     ]
    },
    {
     "name": "stdout",
     "output_type": "stream",
     "text": [
      "Found and overwrite existing results:  /home/workspace/2022.micro.artifact/evaluation_setups/fig15_stc_related_setup/scripts/../outputs/resnet50_selected/WD-1.0/M512-K256-N1024-IAD0.82-WD1.0/STC_flexible-RF2x-24-bandwidth/output\n",
      "Found and overwrite existing results:  /home/workspace/2022.micro.artifact/evaluation_setups/fig15_stc_related_setup/scripts/../outputs/resnet50_selected/WD-1.0/M512-K256-N1024-IAD0.82-WD1.0/STC_flexible-RF2x-24-bandwidth-RLE/output\n",
      "Found and overwrite existing results:  /home/workspace/2022.micro.artifact/evaluation_setups/fig15_stc_related_setup/scripts/../outputs/resnet50_selected/WD-1.0/M512-K256-N1024-IAD0.82-WD1.0/STC_flexible_dualCompress-RF2x-24-bandwidth-RLE/output\n",
      "\n",
      "INFO: generating per layer results for:  0.5\n",
      "Found and overwrite existing results:  /home/workspace/2022.micro.artifact/evaluation_setups/fig15_stc_related_setup/scripts/../outputs/resnet50_selected/WD-0.5/M128-K1152-N1024-IAD0.44-WD0.5/TC-RF2x-24-bandwidth/output\n",
      "Found and overwrite existing results:  /home/workspace/2022.micro.artifact/evaluation_setups/fig15_stc_related_setup/scripts/../outputs/resnet50_selected/WD-0.5/M128-K1152-N1024-IAD0.44-WD0.5/STC-RF2x-24-bandwidth/output\n",
      "Found and overwrite existing results:  /home/workspace/2022.micro.artifact/evaluation_setups/fig15_stc_related_setup/scripts/../outputs/resnet50_selected/WD-0.5/M128-K1152-N1024-IAD0.44-WD0.5/DSTC-RF2x-24-bandwidth/output\n",
      "Found and overwrite existing results:  /home/workspace/2022.micro.artifact/evaluation_setups/fig15_stc_related_setup/scripts/../outputs/resnet50_selected/WD-0.5/M128-K1152-N1024-IAD0.44-WD0.5/STC_flexible-RF2x-24-bandwidth/output\n",
      "Found and overwrite existing results:  /home/workspace/2022.micro.artifact/evaluation_setups/fig15_stc_related_setup/scripts/../outputs/resnet50_selected/WD-0.5/M128-K1152-N1024-IAD0.44-WD0.5/STC_flexible-RF2x-24-bandwidth-RLE/output\n",
      "Found and overwrite existing results:  Utilization = 1.00 | pJ/Algorithmic-Compute =    1.149 | pJ/Compute =    2.297\n",
      "Utilization = 1.00 | pJ/Compute =    1.845\n",
      "Utilization = 1.00 | pJ/Algorithmic-Compute =    0.988 | pJ/Compute =    1.976\n",
      "Utilization = 1.00 | pJ/Algorithmic-Compute =    0.817 | pJ/Compute =    1.633\n",
      "Utilization = 1.00 | pJ/Algorithmic-Compute =    0.988 | pJ/Compute =    1.976\n",
      "Utilization = 1.00 | pJ/Algorithmic-Compute =    0.988 | pJ/Compute =    1.976\n",
      "Utilization = 1.00 | pJ/Compute =    1.781\n",
      "Utilization = 1.00 | pJ/Algorithmic-Compute =    0.711 | pJ/Compute =    1.422\n",
      "Utilization = 0.63 | pJ/Algorithmic-Compute =    1.269 | pJ/Compute =    5.769\n",
      "Utilization = 1.00 | pJ/Algorithmic-Compute =    1.189 | pJ/Compute =    2.378\n",
      "Utilization = 1.00 | pJ/Algorithmic-Compute =    1.189 | pJ/Compute =    2.378\n",
      "Utilization = 1.00 | pJ/Algorithmic-Compute =    1.189 | pJ/Compute =    2.378\n",
      "Utilization = 1.00 | pJ/Algorithmic-Compute =    1.106 | pJ/Compute =    2.212\n",
      "Utilization = 1.00 | pJ/Compute =    1.531\n",
      "Utilization = 0.50 | pJ/Algorithmic-Compute =    0.826 | pJ/Compute =    6.122\n",
      "Utilization = 1.00 | pJ/Algorithmic-Compute =    0.939 | pJ/Compute =    1.878\n",
      "Utilization = 1.00 | pJ/Algorithmic-Compute =    0.939 | pJ/Compute =    1.878\n",
      "Utilization = 0.61 | pJ/Algorithmic-Compute =    1.802 | pJ/Compute =    6.436\n",
      "Utilization = 1.00 | pJ/Algorithmic-Compute =    0.939 | pJ/Compute =    1.878\n",
      "Utilization = 1.00 | pJ/Algorithmic-Compute =    0.909 | pJ/Compute =    1.818\n",
      "Warning: DRAM: adjust representation format word bits from 3 to 4 to avoid storage fragmentation.\n",
      "Warning: SMEM: adjust representation format word bits from 3 to 4 to avoid storage fragmentation.\n",
      "Warning: LRF: adjust representation format word bits from 3 to 4 to avoid storage fragmentation.\n",
      "Utilization = 0.70 | pJ/Algorithmic-Compute =    0.995 | pJ/Compute =    2.986\n",
      "Utilization = 0.72 | pJ/Algorithmic-Compute =    0.987 | pJ/Compute =    2.961\n",
      "Utilization = 0.68 | pJ/Algorithmic-Compute =    2.100 | pJ/Compute =    5.121\n",
      "Warning: DRAM: adjust representation format word bits from 3 to 4 to avoid storage fragmentation.\n",
      "Warning: SMEM: adjust representation format word bits from 3 to 4 to avoid storage fragmentation.\n",
      "Warning: LRF: adjust representation format word bits from 3 to 4 to avoid storage fragmentation.\n",
      "Utilization = 0.70 | pJ/Algorithmic-Compute =    0.756 | pJ/Compute =    2.269\n",
      "Utilization = 1.00 | pJ/Algorithmic-Compute =    0.655 | pJ/Compute =    1.965\n",
      "Utilization = 0.72 | pJ/Algorithmic-Compute =    0.747 | pJ/Compute =    2.240\n",
      "Warning: DRAM: adjust representation format word bits from 3 to 4 to avoid storage fragmentation.\n",
      "Warning: SMEM: adjust representation format word bits from 3 to 4 to avoid storage fragmentation.\n",
      "Warning: LRF: adjust representation format word bits from 3 to 4 to avoid storage fragmentation.\n",
      "Utilization = 0.52 | pJ/Algorithmic-Compute =    0.957 | pJ/Compute =    6.526\n",
      "Utilization = 1.00 | pJ/Algorithmic-Compute =    0.514 | pJ/Compute =    1.541\n",
      "Utilization = 0.70 | pJ/Algorithmic-Compute =    0.980 | pJ/Compute =    2.941\n",
      "Utilization = 0.72 | pJ/Algorithmic-Compute =    0.972 | pJ/Compute =    2.916\n",
      "Utilization = 0.98 | pJ/Algorithmic-Compute =    0.889 | pJ/Compute =    2.667\n",
      "Warning: DRAM: adjust representation format word bits from 3 to 4 to avoid storage fragmentation.\n",
      "Warning: SMEM: adjust representation format word bits from 3 to 4 to avoid storage fragmentation.\n",
      "Warning: LRF: adjust representation format word bits from 3 to 4 to avoid storage fragmentation.\n",
      "Utilization = 0.38 | pJ/Algorithmic-Compute =    0.596 | pJ/Compute =    6.623\n",
      "/home/workspace/2022.micro.artifact/evaluation_setups/fig15_stc_related_setup/scripts/../outputs/resnet50_selected/WD-0.5/M128-K1152-N1024-IAD0.44-WD0.5/STC_flexible_dualCompress-RF2x-24-bandwidth-RLE/output\n",
      "Found and overwrite existing results:  /home/workspace/2022.micro.artifact/evaluation_setups/fig15_stc_related_setup/scripts/../outputs/resnet50_selected/WD-0.5/M512-K1024-N256-IAD0.27-WD0.5/TC-RF2x-24-bandwidth/output\n",
      "Found and overwrite existing results:  /home/workspace/2022.micro.artifact/evaluation_setups/fig15_stc_related_setup/scripts/../outputs/resnet50_selected/WD-0.5/M512-K1024-N256-IAD0.27-WD0.5/STC-RF2x-24-bandwidth/output\n",
      "Found and overwrite existing results:  /home/workspace/2022.micro.artifact/evaluation_setups/fig15_stc_related_setup/scripts/../outputs/resnet50_selected/WD-0.5/M512-K1024-N256-IAD0.27-WD0.5/DSTC-RF2x-24-bandwidth/output\n",
      "Found and overwrite existing results:  /home/workspace/2022.micro.artifact/evaluation_setups/fig15_stc_related_setup/scripts/../outputs/resnet50_selected/WD-0.5/M512-K1024-N256-IAD0.27-WD0.5/STC_flexible-RF2x-24-bandwidth/output\n",
      "Found and overwrite existing results:  /home/workspace/2022.micro.artifact/evaluation_setups/fig15_stc_related_setup/scripts/../outputs/resnet50_selected/WD-0.5/M512-K1024-N256-IAD0.27-WD0.5/STC_flexible-RF2x-24-bandwidth-RLE/output\n",
      "Found and overwrite existing results:  /home/workspace/2022.micro.artifact/evaluation_setups/fig15_stc_related_setup/scripts/../outputs/resnet50_selected/WD-0.5/M512-K1024-N256-IAD0.27-WD0.5/STC_flexible_dualCompress-RF2x-24-bandwidth-RLE/output\n",
      "Found and overwrite existing results:  /home/workspace/2022.micro.artifact/evaluation_setups/fig15_stc_related_setup/scripts/../outputs/resnet50_selected/WD-0.5/M512-K128-N1024-IAD0.56-WD0.5/TC-RF2x-24-bandwidth/output\n",
      "Found and overwrite existing results:  /home/workspace/2022.micro.artifact/evaluation_setups/fig15_stc_related_setup/scripts/../outputs/resnet50_selected/WD-0.5/M512-K128-N1024-IAD0.56-WD0.5/STC-RF2x-24-bandwidth/output\n",
      "Found and overwrite existing results:  /home/workspace/2022.micro.artifact/evaluation_setups/fig15_stc_related_setup/scripts/../outputs/resnet50_selected/WD-0.5/M512-K128-N1024-IAD0.56-WD0.5/DSTC-RF2x-24-bandwidth/output\n",
      "Found and overwrite existing results:  /home/workspace/2022.micro.artifact/evaluation_setups/fig15_stc_related_setup/scripts/../outputs/resnet50_selected/WD-0.5/M512-K128-N1024-IAD0.56-WD0.5/STC_flexible-RF2x-24-bandwidth/output\n",
      "Found and overwrite existing results:  /home/workspace/2022.micro.artifact/evaluation_setups/fig15_stc_related_setup/scripts/../outputs/resnet50_selected/WD-0.5/M512-K128-N1024-IAD0.56-WD0.5/STC_flexible-RF2x-24-bandwidth-RLE/output\n"
     ]
    },
    {
     "name": "stdout",
     "output_type": "stream",
     "text": [
      "Found and overwrite existing results:  /home/workspace/2022.micro.artifact/evaluation_setups/fig15_stc_related_setup/scripts/../outputs/resnet50_selected/WD-0.5/M512-K128-N1024-IAD0.56-WD0.5/STC_flexible_dualCompress-RF2x-24-bandwidth-RLE/output\n",
      "Found and overwrite existing results:  /home/workspace/2022.micro.artifact/evaluation_setups/fig15_stc_related_setup/scripts/../outputs/resnet50_selected/WD-0.5/M512-K256-N1024-IAD0.82-WD0.5/TC-RF2x-24-bandwidth/output\n",
      "Found and overwrite existing results:  /home/workspace/2022.micro.artifact/evaluation_setups/fig15_stc_related_setup/scripts/../outputs/resnet50_selected/WD-0.5/M512-K256-N1024-IAD0.82-WD0.5/STC-RF2x-24-bandwidth/output\n",
      "Found and overwrite existing results:  /home/workspace/2022.micro.artifact/evaluation_setups/fig15_stc_related_setup/scripts/../outputs/resnet50_selected/WD-0.5/M512-K256-N1024-IAD0.82-WD0.5/DSTC-RF2x-24-bandwidth/output\n",
      "Found and overwrite existing results:  /home/workspace/2022.micro.artifact/evaluation_setups/fig15_stc_related_setup/scripts/../outputs/resnet50_selected/WD-0.5/M512-K256-N1024-IAD0.82-WD0.5/STC_flexible-RF2x-24-bandwidth/output\n",
      "Found and overwrite existing results:  /home/workspace/2022.micro.artifact/evaluation_setups/fig15_stc_related_setup/scripts/../outputs/resnet50_selected/WD-0.5/M512-K256-N1024-IAD0.82-WD0.5/STC_flexible-RF2x-24-bandwidth-RLE/output\n",
      "Found and overwrite existing results:  /home/workspace/2022.micro.artifact/evaluation_setups/fig15_stc_related_setup/scripts/../outputs/resnet50_selected/WD-0.5/M512-K256-N1024-IAD0.82-WD0.5/STC_flexible_dualCompress-RF2x-24-bandwidth-RLE/output\n",
      "\n",
      "INFO: generating per layer results for:  0.3333\n",
      "Found and overwrite existing results:  /home/workspace/2022.micro.artifact/evaluation_setups/fig15_stc_related_setup/scripts/../outputs/resnet50_selected/WD-0.3333/M128-K1152-N1024-IAD0.44-WD0.3333/DSTC-RF2x-24-bandwidth/output\n",
      "Found and overwrite existing results:  /home/workspace/2022.micro.artifact/evaluation_setups/fig15_stc_related_setup/scripts/../outputs/resnet50_selected/WD-0.3333/M128-K1152-N1024-IAD0.44-WD0.3333/STC_flexible-RF2x-24-bandwidth/output\n",
      "Found and overwrite existing results:  /home/workspace/2022.micro.artifact/evaluation_setups/fig15_stc_related_setup/scripts/../outputs/resnet50_selected/WD-0.3333/M128-K1152-N1024-IAD0.44-WD0.3333/STC_flexible-RF2x-24-bandwidth-RLE/output\n",
      "Found and overwrite existing results:  /home/workspace/2022.micro.artifact/evaluation_setups/fig15_stc_related_setup/scripts/../outputs/resnet50_selected/WD-0.3333/M128-K1152-N1024-IAD0.44-WD0.3333/STC_flexible_dualCompress-RF2x-24-bandwidth-RLE/output\n",
      "Found and overwrite existing results:  /home/workspace/2022.micro.artifact/evaluation_setups/fig15_stc_related_setup/scripts/../outputs/resnet50_selected/WD-0.3333/M512-K1024-N256-IAD0.27-WD0.3333/DSTC-RF2x-24-bandwidth/output\n",
      "Found and overwrite existing results:  /home/workspace/2022.micro.artifact/evaluation_setups/fig15_stc_related_setup/scripts/../outputs/resnet50_selected/WD-0.3333/M512-K1024-N256-IAD0.27-WD0.3333/STC_flexible-RF2x-24-bandwidth/output\n",
      "Found and overwrite existing results:  /home/workspace/2022.micro.artifact/evaluation_setups/fig15_stc_related_setup/scripts/../outputs/resnet50_selected/WD-0.3333/M512-K1024-N256-IAD0.27-WD0.3333/STC_flexible-RF2x-24-bandwidth-RLE/output\n",
      "Found and overwrite existing results:  /home/workspace/2022.micro.artifact/evaluation_setups/fig15_stc_related_setup/scripts/../outputs/resnet50_selected/WD-0.3333/M512-K1024-N256-IAD0.27-WD0.3333/STC_flexible_dualCompress-RF2x-24-bandwidth-RLE/output\n",
      "Found and overwrite existing results:  /home/workspace/2022.micro.artifact/evaluation_setups/fig15_stc_related_setup/scripts/../outputs/resnet50_selected/WD-0.3333/M512-K128-N1024-IAD0.56-WD0.3333/DSTC-RF2x-24-bandwidth/output\n",
      "Found and overwrite existing results:  /home/workspace/2022.micro.artifact/evaluation_setups/fig15_stc_related_setup/scripts/../outputs/resnet50_selected/WD-0.3333/M512-K128-N1024-IAD0.56-WD0.3333/STC_flexible-RF2x-24-bandwidth/output\n",
      "Found and overwrite existing results:  /home/workspace/2022.micro.artifact/evaluation_setups/fig15_stc_related_setup/scripts/../outputs/resnet50_selected/WD-0.3333/M512-K128-N1024-IAD0.56-WD0.3333/STC_flexible-RF2x-24-bandwidth-RLE/output\n",
      "Found and overwrite existing results:  /home/workspace/2022.micro.artifact/evaluation_setups/fig15_stc_related_setup/scripts/../outputs/resnet50_selected/WD-0.3333/M512-K128-N1024-IAD0.56-WD0.3333/STC_flexible_dualCompress-RF2x-24-bandwidth-RLE/output\n",
      "Found and overwrite existing results:  /home/workspace/2022.micro.artifact/evaluation_setups/fig15_stc_related_setup/scripts/../outputs/resnet50_selected/WD-0.3333/M512-K256-N1024-IAD0.82-WD0.3333/DSTC-RF2x-24-bandwidth/output\n",
      "Found and overwrite existing results:  /home/workspace/2022.micro.artifact/evaluation_setups/fig15_stc_related_setup/scripts/../outputs/resnet50_selected/WD-0.3333/M512-K256-N1024-IAD0.82-WD0.3333/STC_flexible-RF2x-24-bandwidth/output\n",
      "Found and overwrite existing results:  /home/workspace/2022.micro.artifact/evaluation_setups/fig15_stc_related_setup/scripts/../outputs/resnet50_selected/WD-0.3333/M512-K256-N1024-IAD0.82-WD0.3333/STC_flexible-RF2x-24-bandwidth-RLE/output\n",
      "Found and overwrite existing results:  /home/workspace/2022.micro.artifact/evaluation_setups/fig15_stc_related_setup/scripts/../outputs/resnet50_selected/WD-0.3333/M512-K256-N1024-IAD0.82-WD0.3333/STC_flexible_dualCompress-RF2x-24-bandwidth-RLE/output\n",
      "Utilization = 0.70 | pJ/Algorithmic-Compute =    0.758 | pJ/Compute =    2.274\n",
      "Utilization = 0.53 | pJ/Algorithmic-Compute =    1.362 | pJ/Compute =    7.295\n",
      "Utilization = 0.72 | pJ/Algorithmic-Compute =    0.750 | pJ/Compute =    2.249\n",
      "Warning: DRAM: adjust representation format word bits from 3 to 4 to avoid storage fragmentation.\n",
      "Warning: SMEM: adjust representation format word bits from 3 to 4 to avoid storage fragmentation.\n",
      "Warning: LRF: adjust representation format word bits from 3 to 4 to avoid storage fragmentation.\n",
      "Warning: DRAM: adjust representation format word bits from 3 to 4 to avoid storage fragmentation.\n",
      "Warning: SMEM: adjust representation format word bits from 3 to 4 to avoid storage fragmentation.\n",
      "Warning: LRF: adjust representation format word bits from 3 to 4 to avoid storage fragmentation.\n",
      "Utilization = 0.76 | pJ/Algorithmic-Compute =    0.720 | pJ/Compute =    2.160\n",
      "Utilization = 0.55 | pJ/Algorithmic-Compute =    0.913 | pJ/Compute =    3.650\n",
      "Warning: DRAM: adjust representation format word bits from 3 to 4 to avoid storage fragmentation.\n",
      "Warning: SMEM: adjust representation format word bits from 3 to 4 to avoid storage fragmentation.\n",
      "Warning: LRF: adjust representation format word bits from 3 to 4 to avoid storage fragmentation.\n",
      "Utilization = 0.58 | pJ/Algorithmic-Compute =    1.511 | pJ/Compute =    5.529\n",
      "Utilization = 0.55 | pJ/Algorithmic-Compute =    0.913 | pJ/Compute =    3.650\n",
      "Warning: DRAM: adjust representation format word bits from 3 to 4 to avoid storage fragmentation.\n",
      "Warning: SMEM: adjust representation format word bits from 3 to 4 to avoid storage fragmentation.\n",
      "Warning: LRF: adjust representation format word bits from 3 to 4 to avoid storage fragmentation.\n",
      "Warning: DRAM: adjust representation format word bits from 3 to 4 to avoid storage fragmentation.\n",
      "Warning: SMEM: adjust representation format word bits from 3 to 4 to avoid storage fragmentation.\n",
      "Warning: LRF: adjust representation format word bits from 3 to 4 to avoid storage fragmentation.\n",
      "Utilization = 0.55 | pJ/Algorithmic-Compute =    0.567 | pJ/Compute =    2.267\n",
      "Warning: DRAM: adjust representation format word bits from 3 to 4 to avoid storage fragmentation.\n",
      "Warning: SMEM: adjust representation format word bits from 3 to 4 to avoid storage fragmentation.\n",
      "Warning: LRF: adjust representation format word bits from 3 to 4 to avoid storage fragmentation.\n",
      "Utilization = 0.55 | pJ/Algorithmic-Compute =    0.567 | pJ/Compute =    2.267\n",
      "Utilization = 0.87 | pJ/Algorithmic-Compute =    0.581 | pJ/Compute =    2.322\n",
      "Utilization = 0.44 | pJ/Algorithmic-Compute =    0.801 | pJ/Compute =    7.278\n",
      "Warning: DRAM: adjust representation format word bits from 3 to 4 to avoid storage fragmentation.\n"
     ]
    },
    {
     "name": "stdout",
     "output_type": "stream",
     "text": [
      "Warning: SMEM: adjust representation format word bits from 3 to 4 to avoid storage fragmentation.\n",
      "Warning: LRF: adjust representation format word bits from 3 to 4 to avoid storage fragmentation.\n",
      "Warning: DRAM: adjust representation format word bits from 3 to 4 to avoid storage fragmentation.\n",
      "Warning: SMEM: adjust representation format word bits from 3 to 4 to avoid storage fragmentation.\n",
      "Warning: LRF: adjust representation format word bits from 3 to 4 to avoid storage fragmentation.\n",
      "Utilization = 1.00 | pJ/Algorithmic-Compute =    0.425 | pJ/Compute =    1.698\n",
      "Utilization = 0.55 | pJ/Algorithmic-Compute =    0.953 | pJ/Compute =    3.812\n",
      "Warning: DRAM: adjust representation format word bits from 3 to 4 to avoid storage fragmentation.\n",
      "Warning: SMEM: adjust representation format word bits from 3 to 4 to avoid storage fragmentation.\n",
      "Warning: LRF: adjust representation format word bits from 3 to 4 to avoid storage fragmentation.\n",
      "Utilization = 0.55 | pJ/Algorithmic-Compute =    0.953 | pJ/Compute =    3.812\n",
      "Utilization = 0.75 | pJ/Algorithmic-Compute =    0.870 | pJ/Compute =    3.480\n",
      "Utilization = 0.31 | pJ/Algorithmic-Compute =    0.483 | pJ/Compute =    7.158\n",
      "Warning: DRAM: adjust representation format word bits from 3 to 4 to avoid storage fragmentation.\n",
      "Warning: SMEM: adjust representation format word bits from 3 to 4 to avoid storage fragmentation.\n",
      "Warning: LRF: adjust representation format word bits from 3 to 4 to avoid storage fragmentation.\n",
      "Warning: DRAM: adjust representation format word bits from 3 to 4 to avoid storage fragmentation.\n",
      "Warning: SMEM: adjust representation format word bits from 3 to 4 to avoid storage fragmentation.\n",
      "Warning: LRF: adjust representation format word bits from 3 to 4 to avoid storage fragmentation.\n",
      "\n",
      "INFO: generating per layer results for:  0.25\n",
      "Found and overwrite existing results:  /home/workspace/2022.micro.artifact/evaluation_setups/fig15_stc_related_setup/scripts/../outputs/resnet50_selected/WD-0.25/M128-K1152-N1024-IAD0.44-WD0.25/DSTC-RF2x-24-bandwidth/output\n",
      "Found and overwrite existing results:  /home/workspace/2022.micro.artifact/evaluation_setups/fig15_stc_related_setup/scripts/../outputs/resnet50_selected/WD-0.25/M128-K1152-N1024-IAD0.44-WD0.25/STC_flexible-RF2x-24-bandwidth/output\n",
      "Found and overwrite existing results:  /home/workspace/2022.micro.artifact/evaluation_setups/fig15_stc_related_setup/scripts/../outputs/resnet50_selected/WD-0.25/M128-K1152-N1024-IAD0.44-WD0.25/STC_flexible-RF2x-24-bandwidth-RLE/output\n",
      "Found and overwrite existing results:  /home/workspace/2022.micro.artifact/evaluation_setups/fig15_stc_related_setup/scripts/../outputs/resnet50_selected/WD-0.25/M128-K1152-N1024-IAD0.44-WD0.25/STC_flexible_dualCompress-RF2x-24-bandwidth-RLE/output\n",
      "Found and overwrite existing results:  /home/workspace/2022.micro.artifact/evaluation_setups/fig15_stc_related_setup/scripts/../outputs/resnet50_selected/WD-0.25/M512-K1024-N256-IAD0.27-WD0.25/DSTC-RF2x-24-bandwidth/output\n",
      "Found and overwrite existing results:  /home/workspace/2022.micro.artifact/evaluation_setups/fig15_stc_related_setup/scripts/../outputs/resnet50_selected/WD-0.25/M512-K1024-N256-IAD0.27-WD0.25/STC_flexible-RF2x-24-bandwidth/output\n",
      "Found and overwrite existing results:  /home/workspace/2022.micro.artifact/evaluation_setups/fig15_stc_related_setup/scripts/../outputs/resnet50_selected/WD-0.25/M512-K1024-N256-IAD0.27-WD0.25/STC_flexible-RF2x-24-bandwidth-RLE/output\n",
      "Found and overwrite existing results:  /home/workspace/2022.micro.artifact/evaluation_setups/fig15_stc_related_setup/scripts/../outputs/resnet50_selected/WD-0.25/M512-K1024-N256-IAD0.27-WD0.25/STC_flexible_dualCompress-RF2x-24-bandwidth-RLE/output\n",
      "Found and overwrite existing results:  /home/workspace/2022.micro.artifact/evaluation_setups/fig15_stc_related_setup/scripts/../outputs/resnet50_selected/WD-0.25/M512-K128-N1024-IAD0.56-WD0.25/DSTC-RF2x-24-bandwidth/output\n",
      "Found and overwrite existing results:  /home/workspace/2022.micro.artifact/evaluation_setups/fig15_stc_related_setup/scripts/../outputs/resnet50_selected/WD-0.25/M512-K128-N1024-IAD0.56-WD0.25/STC_flexible-RF2x-24-bandwidth/output\n",
      "Found and overwrite existing results:  /home/workspace/2022.micro.artifact/evaluation_setups/fig15_stc_related_setup/scripts/../outputs/resnet50_selected/WD-0.25/M512-K128-N1024-IAD0.56-WD0.25/STC_flexible-RF2x-24-bandwidth-RLE/output\n",
      "Found and overwrite existing results:  /home/workspace/2022.micro.artifact/evaluation_setups/fig15_stc_related_setup/scripts/../outputs/resnet50_selected/WD-0.25/M512-K128-N1024-IAD0.56-WD0.25/STC_flexible_dualCompress-RF2x-24-bandwidth-RLE/output\n",
      "Found and overwrite existing results:  /home/workspace/2022.micro.artifact/evaluation_setups/fig15_stc_related_setup/scripts/../outputs/resnet50_selected/WD-0.25/M512-K256-N1024-IAD0.82-WD0.25/DSTC-RF2x-24-bandwidth/output\n",
      "Found and overwrite existing results:  /home/workspace/2022.micro.artifact/evaluation_setups/fig15_stc_related_setup/scripts/../outputs/resnet50_selected/WD-0.25/M512-K256-N1024-IAD0.82-WD0.25/STC_flexible-RF2x-24-bandwidth/output\n",
      "Found and overwrite existing results:  /home/workspace/2022.micro.artifact/evaluation_setups/fig15_stc_related_setup/scripts/../outputs/resnet50_selected/WD-0.25/M512-K256-N1024-IAD0.82-WD0.25/STC_flexible-RF2x-24-bandwidth-RLE/output\n",
      "Found and overwrite existing results:  /home/workspace/2022.micro.artifact/evaluation_setups/fig15_stc_related_setup/scripts/../outputs/resnet50_selected/WD-0.25/M512-K256-N1024-IAD0.82-WD0.25/STC_flexible_dualCompress-RF2x-24-bandwidth-RLE/output\n"
     ]
    },
    {
     "name": "stderr",
     "output_type": "stream",
     "text": [
      "\n",
      "real\t0m9.311s\n",
      "user\t0m32.918s\n",
      "sys\t0m1.148s\n"
     ]
    },
    {
     "name": "stdout",
     "output_type": "stream",
     "text": [
      "Warning: DRAM: adjust representation format word bits from 3 to 4 to avoid storage fragmentation.\n",
      "Warning: SMEM: adjust representation format word bits from 3 to 4 to avoid storage fragmentation.\n",
      "Warning: LRF: adjust representation format word bits from 3 to 4 to avoid storage fragmentation.\n",
      "Utilization = 0.55 | pJ/Algorithmic-Compute =    0.703 | pJ/Compute =    2.812\n",
      "Utilization = 0.55 | pJ/Algorithmic-Compute =    0.703 | pJ/Compute =    2.812\n",
      "Utilization = 0.61 | pJ/Algorithmic-Compute =    1.259 | pJ/Compute =    6.141\n",
      "Utilization = 0.58 | pJ/Algorithmic-Compute =    0.673 | pJ/Compute =    2.693\n",
      "Utilization = 0.51 | pJ/Algorithmic-Compute =    1.215 | pJ/Compute =    8.676\n"
     ]
    }
   ],
   "source": [
    "%%bash\n",
    "cd ../evaluation_setups/fig15_stc_related_setup/scripts\n",
    "echo \"input specs at: ../evaluation_setups/fig15_stc_related_setup/\"\n",
    "time python3 sweep.py\n",
    "# To enable mapspace search, uncomment command below (note that the run will take much longer)\n",
    "# mapspace search might end up with a slightly different mapping due to runtime randomness\n",
    "# time python3 sweep.py --search_mapping"
   ]
  },
  {
   "cell_type": "markdown",
   "metadata": {},
   "source": [
    "### Step2: Parse and generate plot\n",
    "\n",
    "1) run first cell to parse and generate figures\n",
    "\n",
    "2) run second cell to display the figures\n",
    "\n",
    "3) compare the generated figure to Fig.15 in the paper\n",
    "\n",
    "  ***Please note that we used the public 45nm data for energy modeling in this evaluation instead of the 65nm private PDK used in our paper's evaluations.*** As a result, the normalized cycles will match the figure presented in paper, but **the normalized energy will not be an exact match. However, the trends do stay the same for both technology nodes.**\n"
   ]
  },
  {
   "cell_type": "code",
   "execution_count": null,
   "metadata": {},
   "outputs": [],
   "source": [
    "%%bash\n",
    "cd ../evaluation_setups/fig15_stc_related_setup/scripts\n",
    "python3 parse_and_plot.py --raw ../outputs/resnet50_selected/*\n",
    "\n",
    "# If used mapspace search in the previous step\n",
    "# python3 parse_and_plot.py --raw ../outputs/resnet50_selected/* --stats_prefix timeloop-mapper"
   ]
  },
  {
   "cell_type": "code",
   "execution_count": null,
   "metadata": {},
   "outputs": [],
   "source": [
    "from IPython.display import Video, Image, HTML, display\n",
    "import matplotlib.pyplot as plt\n",
    "\n",
    "cycles_fig = \"../evaluation_setups/fig15_stc_related_setup/outputs/fig_cycles.png\"\n",
    "energy_fig = \"../evaluation_setups/fig15_stc_related_setup/outputs/fig_energy.png\"\n",
    "\n",
    "display(Image(cycles_fig))\n",
    "display(Image(energy_fig))"
   ]
  },
  {
   "cell_type": "code",
   "execution_count": null,
   "metadata": {},
   "outputs": [],
   "source": []
  }
 ],
 "metadata": {
  "kernelspec": {
   "display_name": "Python 3 (ipykernel)",
   "language": "python",
   "name": "python3"
  },
  "language_info": {
   "codemirror_mode": {
    "name": "ipython",
    "version": 3
   },
   "file_extension": ".py",
   "mimetype": "text/x-python",
   "name": "python",
   "nbconvert_exporter": "python",
   "pygments_lexer": "ipython3",
   "version": "3.8.13"
  }
 },
 "nbformat": 4,
 "nbformat_minor": 4
}
