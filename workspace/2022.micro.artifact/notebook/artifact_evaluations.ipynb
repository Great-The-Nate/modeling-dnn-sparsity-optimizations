{
 "cells": [
  {
   "cell_type": "markdown",
   "metadata": {},
   "source": [
    "### Single Sided Unstructured"
   ]
  },
  {
   "cell_type": "code",
   "execution_count": null,
   "metadata": {
    "scrolled": true
   },
   "outputs": [],
   "source": [
    "%%bash\n",
    "cd ~/2022.micro.artifact/evaluation_setups/fig15_stc_related_setup/scripts\n",
    "# cd ../evaluation_setups/fig15_stc_related_setup/scripts\n",
    "echo \"input specs at: ../evaluation_setups/fig15_stc_related_setup/\"\n",
    "time python3 sweep.py"
   ]
  },
  {
   "cell_type": "markdown",
   "metadata": {},
   "source": [
    "Next, read out the energy and latency output based on the density of interest."
   ]
  },
  {
   "cell_type": "code",
   "execution_count": null,
   "metadata": {
    "scrolled": true
   },
   "outputs": [],
   "source": [
    "%%bash\n",
    "DENSITY=\"0.5\" # Options are \"1.0\", \"0.5\", \"0.33\", 0.25\"\n",
    "cd ../evaluation_setups/fig15_stc_related_setup/outputs/resnet50_selected/WD-$DENSITY/M128-K1152-N1024-IAD0.44-WD$DENSITY/DSTC-RF2x-24-bandwidth/output/\n",
    "tail -n 35 timeloop-model.stats.txt"
   ]
  },
  {
   "cell_type": "markdown",
   "metadata": {},
   "source": [
    "### Single Sided Structured"
   ]
  },
  {
   "cell_type": "code",
   "execution_count": null,
   "metadata": {
    "scrolled": true
   },
   "outputs": [],
   "source": [
    "%%bash\n",
    "cd ../evaluation_setups/fig15_stc_related_setup/scripts\n",
    "echo \"input specs at: ../evaluation_setups/fig15_stc_related_setup/\"\n",
    "time python3 modified_sweep.py -d 'SingleStructured' -o '../evaluation_setups/fig15_stc_related_setup/outputs/SingleStructured'"
   ]
  },
  {
   "cell_type": "code",
   "execution_count": null,
   "metadata": {
    "scrolled": true
   },
   "outputs": [],
   "source": [
    "%%bash\n",
    "DENSITY=\"0.5\" # Options are \"1.0\", \"0.5\", \"0.33\", 0.25\"\n",
    "cd ../evaluation_setups/fig15_stc_related_setup/outputs/resnet50_selected/WD-$DENSITY/M128-K1152-N1024-IAD0.44-WD$DENSITY/STC_flexible-RF2x-24-bandwidth/output/\n",
    "tail -n 35 timeloop-model.stats.txt"
   ]
  },
  {
   "cell_type": "markdown",
   "metadata": {},
   "source": [
    "### Dual Sided Structured (NEED YOU TO CHANGE)"
   ]
  },
  {
   "cell_type": "code",
   "execution_count": null,
   "metadata": {
    "scrolled": true
   },
   "outputs": [],
   "source": [
    "%%bash\n",
    "cd ../evaluation_setups/fig15_stc_related_setup/scripts\n",
    "echo \"input specs at: ../evaluation_setups/fig15_stc_related_setup/\"\n",
    "time python3 modified_sweep.py -d 'DualStructured' -o '../evaluation_setups/fig15_stc_related_setup/outputs/DualStructured'"
   ]
  },
  {
   "cell_type": "code",
   "execution_count": null,
   "metadata": {
    "scrolled": true
   },
   "outputs": [],
   "source": [
    "%%bash\n",
    "DENSITY=\"0.5\" # Options are \"1.0\", \"0.5\", \"0.33\", 0.25\"\n",
    "cd ../evaluation_setups/fig15_stc_related_setup/outputs/resnet50_selected/WD-0.5/M128-K1152-N1024-IAD0.44-WD0.5/STC_flexible-RF2x-24-bandwidth/output/\n",
    "tail -n 35 timeloop-model.stats.txt"
   ]
  },
  {
   "cell_type": "markdown",
   "metadata": {},
   "source": [
    "### Dual Sided Unstructured"
   ]
  },
  {
   "cell_type": "code",
   "execution_count": null,
   "metadata": {
    "scrolled": true
   },
   "outputs": [],
   "source": [
    "%%bash\n",
    "cd ../evaluation_setups/fig15_stc_related_setup/scripts\n",
    "echo \"input specs at: ../evaluation_setups/fig15_stc_related_setup/\"\n",
    "time python3 modified_sweep.py -d 'DualUnstructured' -o '../evaluation_setups/fig15_stc_related_setup/outputs/DualUnstructured'"
   ]
  },
  {
   "cell_type": "code",
   "execution_count": null,
   "metadata": {
    "scrolled": true
   },
   "outputs": [],
   "source": [
    "%%bash\n",
    "DENSITY=\"0.5\" # Options are \"1.0\", \"0.5\", \"0.33\", 0.25\"\n",
    "cd ../evaluation_setups/fig15_stc_related_setup/outputs/resnet50_selected/WD-$DENSITY/M128-K1152-N1024-IAD0.44-WD$DENSITY/DSTC-RF2x-24-bandwidth/output/\n",
    "tail -n 35 timeloop-model.stats.txt"
   ]
  }
 ],
 "metadata": {
  "kernelspec": {
   "display_name": "Python 3 (ipykernel)",
   "language": "python",
   "name": "python3"
  },
  "language_info": {
   "codemirror_mode": {
    "name": "ipython",
    "version": 3
   },
   "file_extension": ".py",
   "mimetype": "text/x-python",
   "name": "python",
   "nbconvert_exporter": "python",
   "pygments_lexer": "ipython3",
   "version": "3.8.13"
  }
 },
 "nbformat": 4,
 "nbformat_minor": 4
}
